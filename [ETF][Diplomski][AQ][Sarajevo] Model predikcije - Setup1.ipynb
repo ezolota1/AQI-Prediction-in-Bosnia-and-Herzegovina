{
 "cells": [
  {
   "cell_type": "code",
   "execution_count": 1,
   "id": "be62320a",
   "metadata": {},
   "outputs": [],
   "source": [
    "import pandas as pd\n",
    "import numpy as np\n",
    "import matplotlib.pyplot as plt\n",
    "%matplotlib inline\n",
    "from numpy import timedelta64\n",
    "import datetime "
   ]
  },
  {
   "cell_type": "code",
   "execution_count": 2,
   "id": "8176f422",
   "metadata": {},
   "outputs": [
    {
     "data": {
      "text/html": [
       "<div>\n",
       "<style scoped>\n",
       "    .dataframe tbody tr th:only-of-type {\n",
       "        vertical-align: middle;\n",
       "    }\n",
       "\n",
       "    .dataframe tbody tr th {\n",
       "        vertical-align: top;\n",
       "    }\n",
       "\n",
       "    .dataframe thead th {\n",
       "        text-align: right;\n",
       "    }\n",
       "</style>\n",
       "<table border=\"1\" class=\"dataframe\">\n",
       "  <thead>\n",
       "    <tr style=\"text-align: right;\">\n",
       "      <th></th>\n",
       "      <th>Site</th>\n",
       "      <th>Parameter</th>\n",
       "      <th>Date (LT)</th>\n",
       "      <th>Year</th>\n",
       "      <th>Month</th>\n",
       "      <th>Day</th>\n",
       "      <th>Hour</th>\n",
       "      <th>NowCast Conc.</th>\n",
       "      <th>AQI</th>\n",
       "      <th>AQI Category</th>\n",
       "      <th>Raw Conc.</th>\n",
       "      <th>Conc. Unit</th>\n",
       "      <th>Duration</th>\n",
       "      <th>QC Name</th>\n",
       "      <th>pomocna</th>\n",
       "      <th>diskretno_vrijeme</th>\n",
       "    </tr>\n",
       "  </thead>\n",
       "  <tbody>\n",
       "    <tr>\n",
       "      <th>0</th>\n",
       "      <td>Sarajevo</td>\n",
       "      <td>PM2.5 - Principal</td>\n",
       "      <td>5/22/2018 17:00</td>\n",
       "      <td>2018</td>\n",
       "      <td>5</td>\n",
       "      <td>22</td>\n",
       "      <td>17</td>\n",
       "      <td>10.0</td>\n",
       "      <td>42</td>\n",
       "      <td>Good</td>\n",
       "      <td>7.0</td>\n",
       "      <td>UG/M3</td>\n",
       "      <td>1 Hr</td>\n",
       "      <td>Valid</td>\n",
       "      <td>NaN</td>\n",
       "      <td>0</td>\n",
       "    </tr>\n",
       "    <tr>\n",
       "      <th>1</th>\n",
       "      <td>Sarajevo</td>\n",
       "      <td>PM2.5 - Principal</td>\n",
       "      <td>5/22/2018 18:00</td>\n",
       "      <td>2018</td>\n",
       "      <td>5</td>\n",
       "      <td>22</td>\n",
       "      <td>18</td>\n",
       "      <td>15.7</td>\n",
       "      <td>59</td>\n",
       "      <td>Moderate</td>\n",
       "      <td>20.0</td>\n",
       "      <td>UG/M3</td>\n",
       "      <td>1 Hr</td>\n",
       "      <td>Valid</td>\n",
       "      <td>5/22/2018 17:00</td>\n",
       "      <td>1</td>\n",
       "    </tr>\n",
       "    <tr>\n",
       "      <th>2</th>\n",
       "      <td>Sarajevo</td>\n",
       "      <td>PM2.5 - Principal</td>\n",
       "      <td>5/22/2018 19:00</td>\n",
       "      <td>2018</td>\n",
       "      <td>5</td>\n",
       "      <td>22</td>\n",
       "      <td>19</td>\n",
       "      <td>14.2</td>\n",
       "      <td>55</td>\n",
       "      <td>Moderate</td>\n",
       "      <td>13.0</td>\n",
       "      <td>UG/M3</td>\n",
       "      <td>1 Hr</td>\n",
       "      <td>Valid</td>\n",
       "      <td>5/22/2018 18:00</td>\n",
       "      <td>2</td>\n",
       "    </tr>\n",
       "    <tr>\n",
       "      <th>3</th>\n",
       "      <td>Sarajevo</td>\n",
       "      <td>PM2.5 - Principal</td>\n",
       "      <td>5/22/2018 20:00</td>\n",
       "      <td>2018</td>\n",
       "      <td>5</td>\n",
       "      <td>22</td>\n",
       "      <td>20</td>\n",
       "      <td>16.7</td>\n",
       "      <td>61</td>\n",
       "      <td>Moderate</td>\n",
       "      <td>19.0</td>\n",
       "      <td>UG/M3</td>\n",
       "      <td>1 Hr</td>\n",
       "      <td>Valid</td>\n",
       "      <td>5/22/2018 19:00</td>\n",
       "      <td>3</td>\n",
       "    </tr>\n",
       "    <tr>\n",
       "      <th>4</th>\n",
       "      <td>Sarajevo</td>\n",
       "      <td>PM2.5 - Principal</td>\n",
       "      <td>5/22/2018 21:00</td>\n",
       "      <td>2018</td>\n",
       "      <td>5</td>\n",
       "      <td>22</td>\n",
       "      <td>21</td>\n",
       "      <td>13.8</td>\n",
       "      <td>55</td>\n",
       "      <td>Moderate</td>\n",
       "      <td>11.0</td>\n",
       "      <td>UG/M3</td>\n",
       "      <td>1 Hr</td>\n",
       "      <td>Valid</td>\n",
       "      <td>5/22/2018 20:00</td>\n",
       "      <td>4</td>\n",
       "    </tr>\n",
       "    <tr>\n",
       "      <th>...</th>\n",
       "      <td>...</td>\n",
       "      <td>...</td>\n",
       "      <td>...</td>\n",
       "      <td>...</td>\n",
       "      <td>...</td>\n",
       "      <td>...</td>\n",
       "      <td>...</td>\n",
       "      <td>...</td>\n",
       "      <td>...</td>\n",
       "      <td>...</td>\n",
       "      <td>...</td>\n",
       "      <td>...</td>\n",
       "      <td>...</td>\n",
       "      <td>...</td>\n",
       "      <td>...</td>\n",
       "      <td>...</td>\n",
       "    </tr>\n",
       "    <tr>\n",
       "      <th>41465</th>\n",
       "      <td>Sarajevo</td>\n",
       "      <td>PM2.5 - Principal</td>\n",
       "      <td>4/30/2023 21:00</td>\n",
       "      <td>2023</td>\n",
       "      <td>4</td>\n",
       "      <td>30</td>\n",
       "      <td>21</td>\n",
       "      <td>15.2</td>\n",
       "      <td>58</td>\n",
       "      <td>Moderate</td>\n",
       "      <td>21.0</td>\n",
       "      <td>UG/M3</td>\n",
       "      <td>1 Hr</td>\n",
       "      <td>Valid</td>\n",
       "      <td>4/30/2023 20:00</td>\n",
       "      <td>41472</td>\n",
       "    </tr>\n",
       "    <tr>\n",
       "      <th>41466</th>\n",
       "      <td>Sarajevo</td>\n",
       "      <td>PM2.5 - Principal</td>\n",
       "      <td>4/30/2023 22:00</td>\n",
       "      <td>2023</td>\n",
       "      <td>4</td>\n",
       "      <td>30</td>\n",
       "      <td>22</td>\n",
       "      <td>23.6</td>\n",
       "      <td>75</td>\n",
       "      <td>Moderate</td>\n",
       "      <td>32.0</td>\n",
       "      <td>UG/M3</td>\n",
       "      <td>1 Hr</td>\n",
       "      <td>Valid</td>\n",
       "      <td>4/30/2023 21:00</td>\n",
       "      <td>41473</td>\n",
       "    </tr>\n",
       "    <tr>\n",
       "      <th>41467</th>\n",
       "      <td>Sarajevo</td>\n",
       "      <td>PM2.5 - Principal</td>\n",
       "      <td>4/30/2023 23:00</td>\n",
       "      <td>2023</td>\n",
       "      <td>4</td>\n",
       "      <td>30</td>\n",
       "      <td>23</td>\n",
       "      <td>23.8</td>\n",
       "      <td>76</td>\n",
       "      <td>Moderate</td>\n",
       "      <td>24.0</td>\n",
       "      <td>UG/M3</td>\n",
       "      <td>1 Hr</td>\n",
       "      <td>Valid</td>\n",
       "      <td>4/30/2023 22:00</td>\n",
       "      <td>41474</td>\n",
       "    </tr>\n",
       "    <tr>\n",
       "      <th>41468</th>\n",
       "      <td>Sarajevo</td>\n",
       "      <td>PM2.5 - Principal</td>\n",
       "      <td>5/1/2023 0:00</td>\n",
       "      <td>2023</td>\n",
       "      <td>5</td>\n",
       "      <td>1</td>\n",
       "      <td>0</td>\n",
       "      <td>25.4</td>\n",
       "      <td>79</td>\n",
       "      <td>Moderate</td>\n",
       "      <td>27.0</td>\n",
       "      <td>UG/M3</td>\n",
       "      <td>1 Hr</td>\n",
       "      <td>Valid</td>\n",
       "      <td>4/30/2023 23:00</td>\n",
       "      <td>41475</td>\n",
       "    </tr>\n",
       "    <tr>\n",
       "      <th>41469</th>\n",
       "      <td>Sarajevo</td>\n",
       "      <td>PM2.5 - Principal</td>\n",
       "      <td>5/1/2023 1:00</td>\n",
       "      <td>2023</td>\n",
       "      <td>5</td>\n",
       "      <td>1</td>\n",
       "      <td>1</td>\n",
       "      <td>25.2</td>\n",
       "      <td>79</td>\n",
       "      <td>Moderate</td>\n",
       "      <td>25.0</td>\n",
       "      <td>UG/M3</td>\n",
       "      <td>1 Hr</td>\n",
       "      <td>Valid</td>\n",
       "      <td>5/1/2023 0:00</td>\n",
       "      <td>41476</td>\n",
       "    </tr>\n",
       "  </tbody>\n",
       "</table>\n",
       "<p>41470 rows × 16 columns</p>\n",
       "</div>"
      ],
      "text/plain": [
       "           Site          Parameter        Date (LT)  Year  Month  Day  Hour  \\\n",
       "0      Sarajevo  PM2.5 - Principal  5/22/2018 17:00  2018      5   22    17   \n",
       "1      Sarajevo  PM2.5 - Principal  5/22/2018 18:00  2018      5   22    18   \n",
       "2      Sarajevo  PM2.5 - Principal  5/22/2018 19:00  2018      5   22    19   \n",
       "3      Sarajevo  PM2.5 - Principal  5/22/2018 20:00  2018      5   22    20   \n",
       "4      Sarajevo  PM2.5 - Principal  5/22/2018 21:00  2018      5   22    21   \n",
       "...         ...                ...              ...   ...    ...  ...   ...   \n",
       "41465  Sarajevo  PM2.5 - Principal  4/30/2023 21:00  2023      4   30    21   \n",
       "41466  Sarajevo  PM2.5 - Principal  4/30/2023 22:00  2023      4   30    22   \n",
       "41467  Sarajevo  PM2.5 - Principal  4/30/2023 23:00  2023      4   30    23   \n",
       "41468  Sarajevo  PM2.5 - Principal    5/1/2023 0:00  2023      5    1     0   \n",
       "41469  Sarajevo  PM2.5 - Principal    5/1/2023 1:00  2023      5    1     1   \n",
       "\n",
       "       NowCast Conc.  AQI AQI Category  Raw Conc. Conc. Unit Duration QC Name  \\\n",
       "0               10.0   42         Good        7.0      UG/M3     1 Hr   Valid   \n",
       "1               15.7   59     Moderate       20.0      UG/M3     1 Hr   Valid   \n",
       "2               14.2   55     Moderate       13.0      UG/M3     1 Hr   Valid   \n",
       "3               16.7   61     Moderate       19.0      UG/M3     1 Hr   Valid   \n",
       "4               13.8   55     Moderate       11.0      UG/M3     1 Hr   Valid   \n",
       "...              ...  ...          ...        ...        ...      ...     ...   \n",
       "41465           15.2   58     Moderate       21.0      UG/M3     1 Hr   Valid   \n",
       "41466           23.6   75     Moderate       32.0      UG/M3     1 Hr   Valid   \n",
       "41467           23.8   76     Moderate       24.0      UG/M3     1 Hr   Valid   \n",
       "41468           25.4   79     Moderate       27.0      UG/M3     1 Hr   Valid   \n",
       "41469           25.2   79     Moderate       25.0      UG/M3     1 Hr   Valid   \n",
       "\n",
       "               pomocna  diskretno_vrijeme  \n",
       "0                  NaN                  0  \n",
       "1      5/22/2018 17:00                  1  \n",
       "2      5/22/2018 18:00                  2  \n",
       "3      5/22/2018 19:00                  3  \n",
       "4      5/22/2018 20:00                  4  \n",
       "...                ...                ...  \n",
       "41465  4/30/2023 20:00              41472  \n",
       "41466  4/30/2023 21:00              41473  \n",
       "41467  4/30/2023 22:00              41474  \n",
       "41468  4/30/2023 23:00              41475  \n",
       "41469    5/1/2023 0:00              41476  \n",
       "\n",
       "[41470 rows x 16 columns]"
      ]
     },
     "execution_count": 2,
     "metadata": {},
     "output_type": "execute_result"
    }
   ],
   "source": [
    "data = pd.read_csv('C:/Pythondatasets/Dataset_Sarajevo_Sa_Diskretnim_Vremenom.csv')\n",
    "data"
   ]
  },
  {
   "cell_type": "code",
   "execution_count": 3,
   "id": "65489940",
   "metadata": {},
   "outputs": [],
   "source": [
    "from sklearn.linear_model import LinearRegression\n",
    "from sklearn.svm import SVC\n",
    "from sklearn.model_selection import train_test_split\n",
    "from sklearn.tree import DecisionTreeRegressor\n",
    "from sklearn.ensemble import RandomForestRegressor\n",
    "from sklearn import metrics\n",
    "from sklearn.metrics import mean_absolute_error, mean_squared_error, r2_score\n",
    "from sklearn.metrics import accuracy_score, confusion_matrix"
   ]
  },
  {
   "cell_type": "code",
   "execution_count": 4,
   "id": "89cbe709",
   "metadata": {},
   "outputs": [],
   "source": [
    "X=data[['diskretno_vrijeme']] \n",
    "Y=data['AQI']"
   ]
  },
  {
   "cell_type": "code",
   "execution_count": 42,
   "id": "8431b4de",
   "metadata": {},
   "outputs": [
    {
     "name": "stdout",
     "output_type": "stream",
     "text": [
      "(29033, 1) (12444, 1) (29033,) (12444,)\n"
     ]
    }
   ],
   "source": [
    "X_train, X_test, Y_train, Y_test=train_test_split(X, Y, test_size=0.3)\n",
    "print(X_train.shape, X_test.shape, Y_train.shape, Y_test.shape)"
   ]
  },
  {
   "cell_type": "code",
   "execution_count": 43,
   "id": "b916dd8d",
   "metadata": {},
   "outputs": [
    {
     "name": "stdout",
     "output_type": "stream",
     "text": [
      "RMSE Training Data =  61.657780515817834\n",
      "RMSE Test Data =  61.24577131454748\n",
      "--------------------------------------------------\n",
      "RSquared value on train:  0.0005699382441458622\n",
      "RSquared value on test:  0.0005181259378039815\n"
     ]
    }
   ],
   "source": [
    "# Linear Regression\n",
    "\n",
    "model=LinearRegression()\n",
    "model.fit(X_train, Y_train)\n",
    "\n",
    "train_pred=model.predict(X_train)\n",
    "test_pred=model.predict(X_test)\n",
    "\n",
    "RMSE_train=(np.sqrt(metrics.mean_squared_error(Y_train, train_pred)))\n",
    "RMSE_test=(np.sqrt(metrics.mean_squared_error(Y_test, test_pred)))\n",
    "print(\"RMSE Training Data = \", str(RMSE_train))\n",
    "print(\"RMSE Test Data = \", str(RMSE_test))\n",
    "print(\"-\"*50)\n",
    "print(\"RSquared value on train: \", model.score(X_train, Y_train))\n",
    "print(\"RSquared value on test: \", model.score(X_test, Y_test))"
   ]
  },
  {
   "cell_type": "code",
   "execution_count": 44,
   "id": "ae24b0f6",
   "metadata": {},
   "outputs": [
    {
     "name": "stdout",
     "output_type": "stream",
     "text": [
      "RMSE Training Data =  1.4556517942364082\n",
      "RMSE Test Data =  11.703899180486859\n",
      "--------------------------------------------------\n",
      "RSquared value on train:  0.9994429532643606\n",
      "RSquared value on test:  0.9635007576309991\n"
     ]
    }
   ],
   "source": [
    "# Decision tree Regressor\n",
    "\n",
    "DT=DecisionTreeRegressor()\n",
    "DT.fit(X_train, Y_train)\n",
    "\n",
    "train_preds=DT.predict(X_train)\n",
    "test_preds=DT.predict(X_test)\n",
    "\n",
    "RMSE_train=(np.sqrt(metrics.mean_squared_error(Y_train, train_preds)))\n",
    "RMSE_test=(np.sqrt(metrics.mean_squared_error(Y_test, test_preds)))\n",
    "print(\"RMSE Training Data = \", str(RMSE_train))\n",
    "print(\"RMSE Test Data = \", str(RMSE_test))\n",
    "print(\"-\"*50)\n",
    "print(\"RSquared value on train: \", DT.score(X_train, Y_train))\n",
    "print(\"RSquared value on test: \", DT.score(X_test, Y_test))\n",
    "\n",
    "# OVERFITTING"
   ]
  },
  {
   "cell_type": "code",
   "execution_count": 45,
   "id": "0003662f",
   "metadata": {},
   "outputs": [
    {
     "name": "stdout",
     "output_type": "stream",
     "text": [
      "RMSE Training Data =  4.04840546805307\n",
      "RMSE Test Data =  9.889648929061863\n",
      "--------------------------------------------------\n",
      "RSquared value on train:  0.9956913160489709\n",
      "RSquared value on test:  0.9739393972932197\n"
     ]
    }
   ],
   "source": [
    "# Random Forest Regressor\n",
    "\n",
    "RF=RandomForestRegressor().fit(X_train, Y_train)\n",
    "\n",
    "train_preds1=RF.predict(X_train)\n",
    "test_preds1=RF.predict(X_test)\n",
    "\n",
    "RMSE_train=(np.sqrt(metrics.mean_squared_error(Y_train, train_preds1)))\n",
    "RMSE_test=(np.sqrt(metrics.mean_squared_error(Y_test, test_preds1)))\n",
    "print(\"RMSE Training Data = \", str(RMSE_train))\n",
    "print(\"RMSE Test Data = \", str(RMSE_test))\n",
    "print(\"-\"*50)\n",
    "print(\"RSquared value on train: \", RF.score(X_train, Y_train))\n",
    "print(\"RSquared value on test: \", RF.score(X_test, Y_test))"
   ]
  },
  {
   "cell_type": "markdown",
   "id": "25923cc6",
   "metadata": {},
   "source": [
    "# K FOLD CROSS VALIDATION"
   ]
  },
  {
   "cell_type": "code",
   "execution_count": 57,
   "id": "1fa74447",
   "metadata": {},
   "outputs": [
    {
     "data": {
      "text/plain": [
       "KFold(n_splits=3, random_state=None, shuffle=False)"
      ]
     },
     "execution_count": 57,
     "metadata": {},
     "output_type": "execute_result"
    }
   ],
   "source": [
    "from sklearn.model_selection import KFold\n",
    "kf=KFold(n_splits=3)\n",
    "kf"
   ]
  },
  {
   "cell_type": "code",
   "execution_count": 36,
   "id": "c795b876",
   "metadata": {},
   "outputs": [],
   "source": [
    "def get_score(model, X_train, X_test, Y_train, Y_test):\n",
    "    model.fit(X_train, Y_train)\n",
    "    return model.score(X_test, Y_test)"
   ]
  },
  {
   "cell_type": "code",
   "execution_count": 55,
   "id": "6fa72c98",
   "metadata": {},
   "outputs": [],
   "source": [
    "from sklearn.model_selection import StratifiedKFold\n",
    "folds=StratifiedKFold(n_splits=100)"
   ]
  },
  {
   "cell_type": "code",
   "execution_count": 63,
   "id": "999b3034",
   "metadata": {},
   "outputs": [],
   "source": [
    "model=LinearRegression()\n",
    "mymodel=model.fit(X_train, Y_train)"
   ]
  },
  {
   "cell_type": "code",
   "execution_count": 64,
   "id": "927121b8",
   "metadata": {},
   "outputs": [],
   "source": [
    "from sklearn.model_selection import cross_val_score"
   ]
  },
  {
   "cell_type": "code",
   "execution_count": 1,
   "id": "8d12c84e",
   "metadata": {},
   "outputs": [
    {
     "ename": "NameError",
     "evalue": "name 'cross_val_score' is not defined",
     "output_type": "error",
     "traceback": [
      "\u001b[1;31m---------------------------------------------------------------------------\u001b[0m",
      "\u001b[1;31mNameError\u001b[0m                                 Traceback (most recent call last)",
      "\u001b[1;32m~\\AppData\\Local\\Temp\\ipykernel_11560\\1523127280.py\u001b[0m in \u001b[0;36m<module>\u001b[1;34m\u001b[0m\n\u001b[0;32m      1\u001b[0m \u001b[1;31m# K-fold CV\u001b[0m\u001b[1;33m\u001b[0m\u001b[1;33m\u001b[0m\u001b[0m\n\u001b[1;32m----> 2\u001b[1;33m \u001b[0mscores\u001b[0m\u001b[1;33m=\u001b[0m\u001b[0mcross_val_score\u001b[0m\u001b[1;33m(\u001b[0m\u001b[0mmymodel\u001b[0m\u001b[1;33m,\u001b[0m \u001b[0mX_train\u001b[0m\u001b[1;33m,\u001b[0m \u001b[0mY_train\u001b[0m\u001b[1;33m,\u001b[0m \u001b[0mscoring\u001b[0m\u001b[1;33m=\u001b[0m\u001b[1;34m'r2'\u001b[0m\u001b[1;33m,\u001b[0m \u001b[0mcv\u001b[0m\u001b[1;33m=\u001b[0m\u001b[1;36m3\u001b[0m\u001b[1;33m)\u001b[0m\u001b[1;33m\u001b[0m\u001b[1;33m\u001b[0m\u001b[0m\n\u001b[0m\u001b[0;32m      3\u001b[0m \u001b[0mscores\u001b[0m\u001b[1;33m\u001b[0m\u001b[1;33m\u001b[0m\u001b[0m\n",
      "\u001b[1;31mNameError\u001b[0m: name 'cross_val_score' is not defined"
     ]
    }
   ],
   "source": [
    "# K-fold CV\n",
    "scores=cross_val_score(mymodel, X_train, Y_train, scoring='r2', cv=3)\n",
    "scores"
   ]
  },
  {
   "cell_type": "code",
   "execution_count": null,
   "id": "08537e5a",
   "metadata": {},
   "outputs": [],
   "source": []
  }
 ],
 "metadata": {
  "kernelspec": {
   "display_name": "Python 3 (ipykernel)",
   "language": "python",
   "name": "python3"
  },
  "language_info": {
   "codemirror_mode": {
    "name": "ipython",
    "version": 3
   },
   "file_extension": ".py",
   "mimetype": "text/x-python",
   "name": "python",
   "nbconvert_exporter": "python",
   "pygments_lexer": "ipython3",
   "version": "3.9.13"
  }
 },
 "nbformat": 4,
 "nbformat_minor": 5
}
